{
 "cells": [
  {
   "cell_type": "markdown",
   "metadata": {},
   "source": [
    "## Importation des librairies"
   ]
  },
  {
   "cell_type": "code",
   "execution_count": 479,
   "metadata": {},
   "outputs": [],
   "source": [
    "import math\n",
    "import pandas as pd\n",
    "from pandas import Series, DataFrame\n",
    "import matplotlib.pyplot as plt\n",
    "from sklearn.model_selection import train_test_split\n",
    "from sklearn import metrics\n",
    "from sklearn.metrics import confusion_matrix"
   ]
  },
  {
   "cell_type": "markdown",
   "metadata": {},
   "source": [
    "## Importation d'une première partie de la Base de données"
   ]
  },
  {
   "cell_type": "code",
   "execution_count": 257,
   "metadata": {},
   "outputs": [],
   "source": [
    "coordonnees = pd.read_csv(\"./data/all_accelerometer_data_pids_13.csv\",sep=\",\")"
   ]
  },
  {
   "cell_type": "code",
   "execution_count": 258,
   "metadata": {},
   "outputs": [],
   "source": [
    "coordonnees = coordonnees[coordonnees.time != 0];"
   ]
  },
  {
   "cell_type": "code",
   "execution_count": 259,
   "metadata": {},
   "outputs": [
    {
     "data": {
      "text/html": [
       "<div>\n",
       "<style scoped>\n",
       "    .dataframe tbody tr th:only-of-type {\n",
       "        vertical-align: middle;\n",
       "    }\n",
       "\n",
       "    .dataframe tbody tr th {\n",
       "        vertical-align: top;\n",
       "    }\n",
       "\n",
       "    .dataframe thead th {\n",
       "        text-align: right;\n",
       "    }\n",
       "</style>\n",
       "<table border=\"1\" class=\"dataframe\">\n",
       "  <thead>\n",
       "    <tr style=\"text-align: right;\">\n",
       "      <th></th>\n",
       "      <th>time</th>\n",
       "      <th>pid</th>\n",
       "      <th>x</th>\n",
       "      <th>y</th>\n",
       "      <th>z</th>\n",
       "    </tr>\n",
       "  </thead>\n",
       "  <tbody>\n",
       "    <tr>\n",
       "      <th>2</th>\n",
       "      <td>1493733882409</td>\n",
       "      <td>SA0297</td>\n",
       "      <td>0.0758</td>\n",
       "      <td>0.0273</td>\n",
       "      <td>-0.0102</td>\n",
       "    </tr>\n",
       "    <tr>\n",
       "      <th>3</th>\n",
       "      <td>1493733882455</td>\n",
       "      <td>SA0297</td>\n",
       "      <td>-0.0359</td>\n",
       "      <td>0.0794</td>\n",
       "      <td>0.0037</td>\n",
       "    </tr>\n",
       "    <tr>\n",
       "      <th>4</th>\n",
       "      <td>1493733882500</td>\n",
       "      <td>SA0297</td>\n",
       "      <td>-0.2427</td>\n",
       "      <td>-0.0861</td>\n",
       "      <td>-0.0163</td>\n",
       "    </tr>\n",
       "    <tr>\n",
       "      <th>5</th>\n",
       "      <td>1493733883945</td>\n",
       "      <td>SA0297</td>\n",
       "      <td>-0.2888</td>\n",
       "      <td>0.0514</td>\n",
       "      <td>-0.0145</td>\n",
       "    </tr>\n",
       "    <tr>\n",
       "      <th>6</th>\n",
       "      <td>1493733883953</td>\n",
       "      <td>SA0297</td>\n",
       "      <td>-0.0413</td>\n",
       "      <td>-0.0184</td>\n",
       "      <td>-0.0105</td>\n",
       "    </tr>\n",
       "  </tbody>\n",
       "</table>\n",
       "</div>"
      ],
      "text/plain": [
       "            time     pid       x       y       z\n",
       "2  1493733882409  SA0297  0.0758  0.0273 -0.0102\n",
       "3  1493733882455  SA0297 -0.0359  0.0794  0.0037\n",
       "4  1493733882500  SA0297 -0.2427 -0.0861 -0.0163\n",
       "5  1493733883945  SA0297 -0.2888  0.0514 -0.0145\n",
       "6  1493733883953  SA0297 -0.0413 -0.0184 -0.0105"
      ]
     },
     "execution_count": 259,
     "metadata": {},
     "output_type": "execute_result"
    }
   ],
   "source": [
    "coordonnees.head()"
   ]
  },
  {
   "cell_type": "markdown",
   "metadata": {},
   "source": [
    "#### Nos seules valeurs sont les coordonnées gyroscopes (x, y, z) du téléphone afin de faire une prédiction sur l'état débriété d'une personne. Ne sachant pas (et ne trouvant pas sur leur papier de recherche) si le référentiel est un référentiel du téléphone (non utilisable car on peut tenir le téléphone de mutliples manière), ou géocentrique, j'ai décidé de transformer ces coordoonées en 3 variables : movement (distance), vitesse et accélération du téléphone avec le minimum, la moyenne et le maximum de chaque aux différents lapse de temps de lecture d'état d'ébriété"
   ]
  },
  {
   "cell_type": "markdown",
   "metadata": {},
   "source": [
    "### Récupération des PID des participants afin d'importer leurs Base de données"
   ]
  },
  {
   "cell_type": "code",
   "execution_count": 260,
   "metadata": {},
   "outputs": [],
   "source": [
    "PID = coordonnees.pid.unique()"
   ]
  },
  {
   "cell_type": "code",
   "execution_count": 261,
   "metadata": {},
   "outputs": [
    {
     "name": "stdout",
     "output_type": "stream",
     "text": [
      "['SA0297' 'PC6771' 'BK7610' 'DC6359' 'MC7070' 'MJ8002' 'BU4707' 'JR8022'\n",
      " 'HV0618' 'SF3079' 'JB3156' 'CC6740' 'DK3500']\n"
     ]
    }
   ],
   "source": [
    "print(PID)"
   ]
  },
  {
   "cell_type": "code",
   "execution_count": 262,
   "metadata": {},
   "outputs": [],
   "source": [
    "TAC = {}\n",
    "for pid_num in PID:\n",
    "    TAC[pid_num] = pd.read_csv(\"./data/clean_tac/\"+pid_num+\"_clean_tac.csv\",sep=\",\")"
   ]
  },
  {
   "cell_type": "code",
   "execution_count": 263,
   "metadata": {},
   "outputs": [
    {
     "data": {
      "text/html": [
       "<div>\n",
       "<style scoped>\n",
       "    .dataframe tbody tr th:only-of-type {\n",
       "        vertical-align: middle;\n",
       "    }\n",
       "\n",
       "    .dataframe tbody tr th {\n",
       "        vertical-align: top;\n",
       "    }\n",
       "\n",
       "    .dataframe thead th {\n",
       "        text-align: right;\n",
       "    }\n",
       "</style>\n",
       "<table border=\"1\" class=\"dataframe\">\n",
       "  <thead>\n",
       "    <tr style=\"text-align: right;\">\n",
       "      <th></th>\n",
       "      <th>timestamp</th>\n",
       "      <th>TAC_Reading</th>\n",
       "    </tr>\n",
       "  </thead>\n",
       "  <tbody>\n",
       "    <tr>\n",
       "      <th>0</th>\n",
       "      <td>1493719224</td>\n",
       "      <td>-0.002079</td>\n",
       "    </tr>\n",
       "    <tr>\n",
       "      <th>1</th>\n",
       "      <td>1493721045</td>\n",
       "      <td>0.000898</td>\n",
       "    </tr>\n",
       "    <tr>\n",
       "      <th>2</th>\n",
       "      <td>1493721360</td>\n",
       "      <td>0.002095</td>\n",
       "    </tr>\n",
       "    <tr>\n",
       "      <th>3</th>\n",
       "      <td>1493721674</td>\n",
       "      <td>0.001024</td>\n",
       "    </tr>\n",
       "    <tr>\n",
       "      <th>4</th>\n",
       "      <td>1493722001</td>\n",
       "      <td>-0.001156</td>\n",
       "    </tr>\n",
       "  </tbody>\n",
       "</table>\n",
       "</div>"
      ],
      "text/plain": [
       "    timestamp  TAC_Reading\n",
       "0  1493719224    -0.002079\n",
       "1  1493721045     0.000898\n",
       "2  1493721360     0.002095\n",
       "3  1493721674     0.001024\n",
       "4  1493722001    -0.001156"
      ]
     },
     "execution_count": 263,
     "metadata": {},
     "output_type": "execute_result"
    }
   ],
   "source": [
    "TAC[PID[3]].head()"
   ]
  },
  {
   "cell_type": "code",
   "execution_count": 264,
   "metadata": {},
   "outputs": [],
   "source": [
    "coord = {}\n",
    "for pid_num in PID:\n",
    "    coord[pid_num] = coordonnees.loc[coordonnees[\"pid\"] == pid_num]"
   ]
  },
  {
   "cell_type": "code",
   "execution_count": 265,
   "metadata": {},
   "outputs": [
    {
     "data": {
      "text/html": [
       "<div>\n",
       "<style scoped>\n",
       "    .dataframe tbody tr th:only-of-type {\n",
       "        vertical-align: middle;\n",
       "    }\n",
       "\n",
       "    .dataframe tbody tr th {\n",
       "        vertical-align: top;\n",
       "    }\n",
       "\n",
       "    .dataframe thead th {\n",
       "        text-align: right;\n",
       "    }\n",
       "</style>\n",
       "<table border=\"1\" class=\"dataframe\">\n",
       "  <thead>\n",
       "    <tr style=\"text-align: right;\">\n",
       "      <th></th>\n",
       "      <th>time</th>\n",
       "      <th>pid</th>\n",
       "      <th>x</th>\n",
       "      <th>y</th>\n",
       "      <th>z</th>\n",
       "    </tr>\n",
       "  </thead>\n",
       "  <tbody>\n",
       "    <tr>\n",
       "      <th>88314</th>\n",
       "      <td>1493736440950</td>\n",
       "      <td>DC6359</td>\n",
       "      <td>0.0003</td>\n",
       "      <td>-0.0001</td>\n",
       "      <td>0.0038</td>\n",
       "    </tr>\n",
       "    <tr>\n",
       "      <th>88317</th>\n",
       "      <td>1493736440969</td>\n",
       "      <td>DC6359</td>\n",
       "      <td>0.0045</td>\n",
       "      <td>-0.0085</td>\n",
       "      <td>-0.0069</td>\n",
       "    </tr>\n",
       "    <tr>\n",
       "      <th>88320</th>\n",
       "      <td>1493736441001</td>\n",
       "      <td>DC6359</td>\n",
       "      <td>0.0054</td>\n",
       "      <td>0.0149</td>\n",
       "      <td>0.0135</td>\n",
       "    </tr>\n",
       "    <tr>\n",
       "      <th>88323</th>\n",
       "      <td>1493736441023</td>\n",
       "      <td>DC6359</td>\n",
       "      <td>0.0142</td>\n",
       "      <td>0.0195</td>\n",
       "      <td>0.0159</td>\n",
       "    </tr>\n",
       "    <tr>\n",
       "      <th>88326</th>\n",
       "      <td>1493736441054</td>\n",
       "      <td>DC6359</td>\n",
       "      <td>0.0439</td>\n",
       "      <td>0.0052</td>\n",
       "      <td>0.0101</td>\n",
       "    </tr>\n",
       "  </tbody>\n",
       "</table>\n",
       "</div>"
      ],
      "text/plain": [
       "                time     pid       x       y       z\n",
       "88314  1493736440950  DC6359  0.0003 -0.0001  0.0038\n",
       "88317  1493736440969  DC6359  0.0045 -0.0085 -0.0069\n",
       "88320  1493736441001  DC6359  0.0054  0.0149  0.0135\n",
       "88323  1493736441023  DC6359  0.0142  0.0195  0.0159\n",
       "88326  1493736441054  DC6359  0.0439  0.0052  0.0101"
      ]
     },
     "execution_count": 265,
     "metadata": {},
     "output_type": "execute_result"
    }
   ],
   "source": [
    "coord[PID[3]].head()"
   ]
  },
  {
   "cell_type": "markdown",
   "metadata": {},
   "source": [
    "#### L'idée ci-dessous est d'abord de rassembler les valeurs des coordonnées entre les lapses de temps de chaque lecture de l'état d'une personne, afin de les traiter par paquet."
   ]
  },
  {
   "cell_type": "code",
   "execution_count": 266,
   "metadata": {},
   "outputs": [],
   "source": [
    "bad = 0 #Compteur de mauvaises valeurs/valeurs impossibles\n",
    "PID_dic = {} #Dictionnaire où seront contenues toutes les informations avant de rassembler les Base de données et de les inclures\n",
    "for pid_num in PID:    \n",
    "    previous_time = 0\n",
    "    \n",
    "    liste_infos = []\n",
    "    for row_TAC in TAC[pid_num].itertuples(index=False): #Chaque lecture de l'état (date)\n",
    "        readings = coord[pid_num].loc[coord[pid_num][\"time\"].between(previous_time, row_TAC.timestamp*1000)] #Vérification que celle-ci est contenue entre les 2 moments de lectures d'état \n",
    "        \n",
    "        if not readings.empty :\n",
    "           \n",
    "            if previous_time == 0: #La première valeur aura des dates trop antérieures à la date du TAC mesuré (les mesures n'ont pas débutés en même temps)\n",
    "                previous_time = row_TAC.timestamp*1000\n",
    "                continue\n",
    "\n",
    "            previous_time = row_TAC.timestamp*1000\n",
    "            \n",
    "            #Calcul des données qui seront utilisées dans le modèle\n",
    "            movement = []\n",
    "            speed = []\n",
    "            acceleration = []\n",
    "            \n",
    "            sp_prev = 0\n",
    "            \n",
    "            start = True\n",
    "            for row_coord in readings.itertuples(index=False):\n",
    "                if start:\n",
    "                    previous_reading = row_coord\n",
    "                    start = False\n",
    "                    continue\n",
    "                \n",
    "                if previous_reading.time != row_coord.time : #Malheureusement, certaines données sont faussées et ont la même date\n",
    "                    \n",
    "                    mov = math.sqrt((previous_reading.x - row_coord.x)**2 + (previous_reading.y - row_coord.y)**2 + (previous_reading.z - row_coord.z)**2)\n",
    "                    sp = mov/(row_coord.time - previous_reading.time)\n",
    "                    acc = (sp - sp_prev)/(row_coord.time - previous_reading.time)\n",
    "                    sp_prev = sp\n",
    "                    \n",
    "                    movement.append(mov)\n",
    "                    speed.append(sp)\n",
    "                    acceleration.append(acc)\n",
    "                else :\n",
    "                    bad += 1\n",
    "                previous_reading = row_coord\n",
    "                \n",
    "            #Ajouts des données\n",
    "            infos = {}\n",
    "            infos[\"time\"] = row_TAC.timestamp\n",
    "            infos[\"mov_min\"] = min(movement)\n",
    "            infos[\"mov_avg\"] = sum(movement) / len(movement)\n",
    "            infos[\"mov_max\"] = max(movement)\n",
    "            infos[\"speed_min\"] = min(speed)\n",
    "            infos[\"speed_avg\"] = sum(speed) / len(speed)\n",
    "            infos[\"speed_max\"] = max(speed)\n",
    "            infos[\"acc_min\"] = min(acceleration)\n",
    "            infos[\"acc_avg\"] = sum(acceleration) / len(acceleration)\n",
    "            infos[\"acc_max\"] = max(acceleration)\n",
    "            \n",
    "            liste_infos.append(infos)\n",
    "\n",
    "    PID_dic[pid_num] = liste_infos"
   ]
  },
  {
   "cell_type": "code",
   "execution_count": 267,
   "metadata": {},
   "outputs": [
    {
     "name": "stdout",
     "output_type": "stream",
     "text": [
      "{'time': 1493736273, 'mov_min': 0.0003316624790355396, 'mov_avg': 0.21863400439175032, 'mov_max': 5.590394741876462, 'speed_min': 3.629445699237408e-07, 'speed_avg': 0.004933106559231018, 'speed_max': 0.3821051949398228, 'acc_min': -0.11277671052886407, 'acc_avg': 2.9290402959036458e-05, 'acc_max': 0.35714803163947956}\n"
     ]
    }
   ],
   "source": [
    "print(PID_dic[PID[0]][0])"
   ]
  },
  {
   "cell_type": "code",
   "execution_count": 268,
   "metadata": {},
   "outputs": [
    {
     "name": "stdout",
     "output_type": "stream",
     "text": [
      "mauvaises données : 808\n"
     ]
    }
   ],
   "source": [
    "print(\"mauvaises données :\", bad)"
   ]
  },
  {
   "cell_type": "markdown",
   "metadata": {},
   "source": [
    "#### Beaucoup de données impossibles (2 lectures au même instant), ceci ce cumule à beaucoup de données supprimées (par rapport à la taille de la base de données initiales) car la lecture de l'état d'une personne et des coordonnées GPS n'étaient pas au même moment"
   ]
  },
  {
   "cell_type": "code",
   "execution_count": 269,
   "metadata": {},
   "outputs": [],
   "source": [
    "for pid_num in PID:\n",
    "    for i in range(len(PID_dic[pid_num])):\n",
    "        index = TAC[pid_num].loc[TAC[pid_num].timestamp == PID_dic[pid_num][i][\"time\"]].index[0]\n",
    "        TAC[pid_num].loc[index, 'mov_min'] = PID_dic[pid_num][i][\"mov_min\"]\n",
    "        TAC[pid_num].loc[index, 'mov_avg'] = PID_dic[pid_num][i][\"mov_avg\"]\n",
    "        TAC[pid_num].loc[index, 'mov_max'] = PID_dic[pid_num][i][\"mov_max\"]\n",
    "        TAC[pid_num].loc[index, 'speed_min'] = PID_dic[pid_num][i][\"speed_min\"]\n",
    "        TAC[pid_num].loc[index, 'speed_avg'] = PID_dic[pid_num][i][\"speed_avg\"]\n",
    "        TAC[pid_num].loc[index, 'speed_max'] = PID_dic[pid_num][i][\"speed_max\"]\n",
    "        TAC[pid_num].loc[index, 'acc_min'] = PID_dic[pid_num][i][\"acc_min\"]\n",
    "        TAC[pid_num].loc[index, 'acc_avg'] = PID_dic[pid_num][i][\"acc_avg\"]\n",
    "        TAC[pid_num].loc[index, 'acc_max'] = PID_dic[pid_num][i][\"acc_max\"]"
   ]
  },
  {
   "cell_type": "code",
   "execution_count": 270,
   "metadata": {},
   "outputs": [],
   "source": [
    "for pid_num in PID:\n",
    "    TAC[pid_num] = TAC[pid_num].dropna()\n",
    "    del TAC[pid_num]['timestamp']"
   ]
  },
  {
   "cell_type": "code",
   "execution_count": 271,
   "metadata": {},
   "outputs": [
    {
     "data": {
      "text/html": [
       "<div>\n",
       "<style scoped>\n",
       "    .dataframe tbody tr th:only-of-type {\n",
       "        vertical-align: middle;\n",
       "    }\n",
       "\n",
       "    .dataframe tbody tr th {\n",
       "        vertical-align: top;\n",
       "    }\n",
       "\n",
       "    .dataframe thead th {\n",
       "        text-align: right;\n",
       "    }\n",
       "</style>\n",
       "<table border=\"1\" class=\"dataframe\">\n",
       "  <thead>\n",
       "    <tr style=\"text-align: right;\">\n",
       "      <th></th>\n",
       "      <th>TAC_Reading</th>\n",
       "      <th>mov_min</th>\n",
       "      <th>mov_avg</th>\n",
       "      <th>mov_max</th>\n",
       "      <th>speed_min</th>\n",
       "      <th>speed_avg</th>\n",
       "      <th>speed_max</th>\n",
       "      <th>acc_min</th>\n",
       "      <th>acc_avg</th>\n",
       "      <th>acc_max</th>\n",
       "    </tr>\n",
       "  </thead>\n",
       "  <tbody>\n",
       "    <tr>\n",
       "      <th>19</th>\n",
       "      <td>0.076462</td>\n",
       "      <td>0.000000</td>\n",
       "      <td>0.020666</td>\n",
       "      <td>2.810760</td>\n",
       "      <td>0.000000</td>\n",
       "      <td>0.000831</td>\n",
       "      <td>0.096923</td>\n",
       "      <td>-0.002820</td>\n",
       "      <td>4.805980e-07</td>\n",
       "      <td>0.008677</td>\n",
       "    </tr>\n",
       "    <tr>\n",
       "      <th>20</th>\n",
       "      <td>0.085197</td>\n",
       "      <td>0.000000</td>\n",
       "      <td>0.004480</td>\n",
       "      <td>1.953934</td>\n",
       "      <td>0.000000</td>\n",
       "      <td>0.000182</td>\n",
       "      <td>0.150994</td>\n",
       "      <td>-0.006130</td>\n",
       "      <td>1.977633e-06</td>\n",
       "      <td>0.148296</td>\n",
       "    </tr>\n",
       "    <tr>\n",
       "      <th>21</th>\n",
       "      <td>0.090165</td>\n",
       "      <td>0.000000</td>\n",
       "      <td>0.129645</td>\n",
       "      <td>4.643044</td>\n",
       "      <td>0.000000</td>\n",
       "      <td>0.005192</td>\n",
       "      <td>0.293198</td>\n",
       "      <td>-0.014927</td>\n",
       "      <td>3.282755e-06</td>\n",
       "      <td>0.144764</td>\n",
       "    </tr>\n",
       "    <tr>\n",
       "      <th>22</th>\n",
       "      <td>0.089122</td>\n",
       "      <td>0.000000</td>\n",
       "      <td>0.050334</td>\n",
       "      <td>10.362972</td>\n",
       "      <td>0.000000</td>\n",
       "      <td>0.002031</td>\n",
       "      <td>0.431791</td>\n",
       "      <td>-0.039382</td>\n",
       "      <td>5.300569e-06</td>\n",
       "      <td>0.179427</td>\n",
       "    </tr>\n",
       "    <tr>\n",
       "      <th>23</th>\n",
       "      <td>0.080588</td>\n",
       "      <td>0.000100</td>\n",
       "      <td>0.090714</td>\n",
       "      <td>5.729663</td>\n",
       "      <td>0.000004</td>\n",
       "      <td>0.003647</td>\n",
       "      <td>0.285095</td>\n",
       "      <td>-0.010804</td>\n",
       "      <td>1.068390e-05</td>\n",
       "      <td>0.280135</td>\n",
       "    </tr>\n",
       "    <tr>\n",
       "      <th>24</th>\n",
       "      <td>0.065953</td>\n",
       "      <td>0.000000</td>\n",
       "      <td>0.043046</td>\n",
       "      <td>1.980656</td>\n",
       "      <td>0.000000</td>\n",
       "      <td>0.001743</td>\n",
       "      <td>0.288530</td>\n",
       "      <td>-0.011780</td>\n",
       "      <td>1.384215e-05</td>\n",
       "      <td>0.284614</td>\n",
       "    </tr>\n",
       "    <tr>\n",
       "      <th>25</th>\n",
       "      <td>0.050424</td>\n",
       "      <td>0.000000</td>\n",
       "      <td>0.022192</td>\n",
       "      <td>1.821400</td>\n",
       "      <td>0.000000</td>\n",
       "      <td>0.000901</td>\n",
       "      <td>0.154495</td>\n",
       "      <td>-0.009574</td>\n",
       "      <td>5.880538e-06</td>\n",
       "      <td>0.153563</td>\n",
       "    </tr>\n",
       "    <tr>\n",
       "      <th>26</th>\n",
       "      <td>0.041689</td>\n",
       "      <td>0.000100</td>\n",
       "      <td>0.077477</td>\n",
       "      <td>5.507506</td>\n",
       "      <td>0.000004</td>\n",
       "      <td>0.003115</td>\n",
       "      <td>0.211827</td>\n",
       "      <td>-0.007358</td>\n",
       "      <td>7.643266e-06</td>\n",
       "      <td>0.147948</td>\n",
       "    </tr>\n",
       "    <tr>\n",
       "      <th>27</th>\n",
       "      <td>0.046559</td>\n",
       "      <td>0.000000</td>\n",
       "      <td>0.007731</td>\n",
       "      <td>3.904831</td>\n",
       "      <td>0.000000</td>\n",
       "      <td>0.000312</td>\n",
       "      <td>0.164006</td>\n",
       "      <td>-0.006294</td>\n",
       "      <td>1.841923e-06</td>\n",
       "      <td>0.096517</td>\n",
       "    </tr>\n",
       "    <tr>\n",
       "      <th>28</th>\n",
       "      <td>0.067269</td>\n",
       "      <td>0.000000</td>\n",
       "      <td>0.062524</td>\n",
       "      <td>7.992207</td>\n",
       "      <td>0.000000</td>\n",
       "      <td>0.002513</td>\n",
       "      <td>0.319688</td>\n",
       "      <td>-0.009639</td>\n",
       "      <td>3.655662e-06</td>\n",
       "      <td>0.108038</td>\n",
       "    </tr>\n",
       "    <tr>\n",
       "      <th>29</th>\n",
       "      <td>0.099630</td>\n",
       "      <td>0.000100</td>\n",
       "      <td>0.061817</td>\n",
       "      <td>4.151879</td>\n",
       "      <td>0.000004</td>\n",
       "      <td>0.002485</td>\n",
       "      <td>0.166075</td>\n",
       "      <td>-0.005319</td>\n",
       "      <td>6.233650e-06</td>\n",
       "      <td>0.116965</td>\n",
       "    </tr>\n",
       "    <tr>\n",
       "      <th>30</th>\n",
       "      <td>0.134315</td>\n",
       "      <td>0.000200</td>\n",
       "      <td>0.080588</td>\n",
       "      <td>3.206044</td>\n",
       "      <td>0.000008</td>\n",
       "      <td>0.003250</td>\n",
       "      <td>0.456870</td>\n",
       "      <td>-0.018096</td>\n",
       "      <td>1.262587e-05</td>\n",
       "      <td>0.445098</td>\n",
       "    </tr>\n",
       "    <tr>\n",
       "      <th>31</th>\n",
       "      <td>0.160774</td>\n",
       "      <td>0.000000</td>\n",
       "      <td>0.071917</td>\n",
       "      <td>5.382692</td>\n",
       "      <td>0.000000</td>\n",
       "      <td>0.002883</td>\n",
       "      <td>0.215308</td>\n",
       "      <td>-0.006916</td>\n",
       "      <td>1.500105e-06</td>\n",
       "      <td>0.023551</td>\n",
       "    </tr>\n",
       "    <tr>\n",
       "      <th>32</th>\n",
       "      <td>0.171758</td>\n",
       "      <td>0.000332</td>\n",
       "      <td>0.070176</td>\n",
       "      <td>5.116588</td>\n",
       "      <td>0.000012</td>\n",
       "      <td>0.002811</td>\n",
       "      <td>0.189503</td>\n",
       "      <td>-0.005551</td>\n",
       "      <td>2.930886e-06</td>\n",
       "      <td>0.065660</td>\n",
       "    </tr>\n",
       "    <tr>\n",
       "      <th>33</th>\n",
       "      <td>0.166076</td>\n",
       "      <td>0.000173</td>\n",
       "      <td>0.052574</td>\n",
       "      <td>7.480367</td>\n",
       "      <td>0.000007</td>\n",
       "      <td>0.002111</td>\n",
       "      <td>0.299215</td>\n",
       "      <td>-0.011035</td>\n",
       "      <td>1.284811e-06</td>\n",
       "      <td>0.012281</td>\n",
       "    </tr>\n",
       "    <tr>\n",
       "      <th>34</th>\n",
       "      <td>0.148265</td>\n",
       "      <td>0.000000</td>\n",
       "      <td>0.043507</td>\n",
       "      <td>5.628260</td>\n",
       "      <td>0.000000</td>\n",
       "      <td>0.001757</td>\n",
       "      <td>0.228271</td>\n",
       "      <td>-0.008207</td>\n",
       "      <td>4.973893e-06</td>\n",
       "      <td>0.166645</td>\n",
       "    </tr>\n",
       "    <tr>\n",
       "      <th>35</th>\n",
       "      <td>0.125623</td>\n",
       "      <td>0.000000</td>\n",
       "      <td>0.054314</td>\n",
       "      <td>2.702839</td>\n",
       "      <td>0.000000</td>\n",
       "      <td>0.002212</td>\n",
       "      <td>0.191396</td>\n",
       "      <td>-0.006977</td>\n",
       "      <td>1.464501e-05</td>\n",
       "      <td>0.089508</td>\n",
       "    </tr>\n",
       "  </tbody>\n",
       "</table>\n",
       "</div>"
      ],
      "text/plain": [
       "    TAC_Reading   mov_min   mov_avg    mov_max  speed_min  speed_avg  \\\n",
       "19     0.076462  0.000000  0.020666   2.810760   0.000000   0.000831   \n",
       "20     0.085197  0.000000  0.004480   1.953934   0.000000   0.000182   \n",
       "21     0.090165  0.000000  0.129645   4.643044   0.000000   0.005192   \n",
       "22     0.089122  0.000000  0.050334  10.362972   0.000000   0.002031   \n",
       "23     0.080588  0.000100  0.090714   5.729663   0.000004   0.003647   \n",
       "24     0.065953  0.000000  0.043046   1.980656   0.000000   0.001743   \n",
       "25     0.050424  0.000000  0.022192   1.821400   0.000000   0.000901   \n",
       "26     0.041689  0.000100  0.077477   5.507506   0.000004   0.003115   \n",
       "27     0.046559  0.000000  0.007731   3.904831   0.000000   0.000312   \n",
       "28     0.067269  0.000000  0.062524   7.992207   0.000000   0.002513   \n",
       "29     0.099630  0.000100  0.061817   4.151879   0.000004   0.002485   \n",
       "30     0.134315  0.000200  0.080588   3.206044   0.000008   0.003250   \n",
       "31     0.160774  0.000000  0.071917   5.382692   0.000000   0.002883   \n",
       "32     0.171758  0.000332  0.070176   5.116588   0.000012   0.002811   \n",
       "33     0.166076  0.000173  0.052574   7.480367   0.000007   0.002111   \n",
       "34     0.148265  0.000000  0.043507   5.628260   0.000000   0.001757   \n",
       "35     0.125623  0.000000  0.054314   2.702839   0.000000   0.002212   \n",
       "\n",
       "    speed_max   acc_min       acc_avg   acc_max  \n",
       "19   0.096923 -0.002820  4.805980e-07  0.008677  \n",
       "20   0.150994 -0.006130  1.977633e-06  0.148296  \n",
       "21   0.293198 -0.014927  3.282755e-06  0.144764  \n",
       "22   0.431791 -0.039382  5.300569e-06  0.179427  \n",
       "23   0.285095 -0.010804  1.068390e-05  0.280135  \n",
       "24   0.288530 -0.011780  1.384215e-05  0.284614  \n",
       "25   0.154495 -0.009574  5.880538e-06  0.153563  \n",
       "26   0.211827 -0.007358  7.643266e-06  0.147948  \n",
       "27   0.164006 -0.006294  1.841923e-06  0.096517  \n",
       "28   0.319688 -0.009639  3.655662e-06  0.108038  \n",
       "29   0.166075 -0.005319  6.233650e-06  0.116965  \n",
       "30   0.456870 -0.018096  1.262587e-05  0.445098  \n",
       "31   0.215308 -0.006916  1.500105e-06  0.023551  \n",
       "32   0.189503 -0.005551  2.930886e-06  0.065660  \n",
       "33   0.299215 -0.011035  1.284811e-06  0.012281  \n",
       "34   0.228271 -0.008207  4.973893e-06  0.166645  \n",
       "35   0.191396 -0.006977  1.464501e-05  0.089508  "
      ]
     },
     "execution_count": 271,
     "metadata": {},
     "output_type": "execute_result"
    }
   ],
   "source": [
    "TAC[PID[2]]"
   ]
  },
  {
   "cell_type": "code",
   "execution_count": 279,
   "metadata": {},
   "outputs": [],
   "source": [
    "data = pd.concat(TAC[pid_num] for pid_num in PID)"
   ]
  },
  {
   "cell_type": "markdown",
   "metadata": {},
   "source": [
    "### Base de données utilisée"
   ]
  },
  {
   "cell_type": "code",
   "execution_count": 484,
   "metadata": {},
   "outputs": [
    {
     "data": {
      "text/html": [
       "<div>\n",
       "<style scoped>\n",
       "    .dataframe tbody tr th:only-of-type {\n",
       "        vertical-align: middle;\n",
       "    }\n",
       "\n",
       "    .dataframe tbody tr th {\n",
       "        vertical-align: top;\n",
       "    }\n",
       "\n",
       "    .dataframe thead th {\n",
       "        text-align: right;\n",
       "    }\n",
       "</style>\n",
       "<table border=\"1\" class=\"dataframe\">\n",
       "  <thead>\n",
       "    <tr style=\"text-align: right;\">\n",
       "      <th></th>\n",
       "      <th>TAC_Reading</th>\n",
       "      <th>mov_min</th>\n",
       "      <th>mov_avg</th>\n",
       "      <th>mov_max</th>\n",
       "      <th>speed_min</th>\n",
       "      <th>speed_avg</th>\n",
       "      <th>speed_max</th>\n",
       "      <th>acc_min</th>\n",
       "      <th>acc_avg</th>\n",
       "      <th>acc_max</th>\n",
       "    </tr>\n",
       "  </thead>\n",
       "  <tbody>\n",
       "    <tr>\n",
       "      <th>19</th>\n",
       "      <td>0.023972</td>\n",
       "      <td>0.000332</td>\n",
       "      <td>0.218634</td>\n",
       "      <td>5.590395</td>\n",
       "      <td>3.629446e-07</td>\n",
       "      <td>0.004933</td>\n",
       "      <td>0.382105</td>\n",
       "      <td>-0.112777</td>\n",
       "      <td>2.929040e-05</td>\n",
       "      <td>0.357148</td>\n",
       "    </tr>\n",
       "    <tr>\n",
       "      <th>24</th>\n",
       "      <td>0.160592</td>\n",
       "      <td>0.001208</td>\n",
       "      <td>0.058336</td>\n",
       "      <td>1.849770</td>\n",
       "      <td>3.335176e-07</td>\n",
       "      <td>0.003037</td>\n",
       "      <td>0.115611</td>\n",
       "      <td>-0.019693</td>\n",
       "      <td>7.039913e-04</td>\n",
       "      <td>0.079321</td>\n",
       "    </tr>\n",
       "    <tr>\n",
       "      <th>25</th>\n",
       "      <td>0.182644</td>\n",
       "      <td>0.000245</td>\n",
       "      <td>0.032033</td>\n",
       "      <td>3.424942</td>\n",
       "      <td>1.002181e-06</td>\n",
       "      <td>0.000880</td>\n",
       "      <td>0.506953</td>\n",
       "      <td>-0.230323</td>\n",
       "      <td>1.630810e-05</td>\n",
       "      <td>0.433639</td>\n",
       "    </tr>\n",
       "    <tr>\n",
       "      <th>26</th>\n",
       "      <td>0.166101</td>\n",
       "      <td>0.000100</td>\n",
       "      <td>0.109854</td>\n",
       "      <td>4.814954</td>\n",
       "      <td>3.529737e-07</td>\n",
       "      <td>0.002438</td>\n",
       "      <td>0.310157</td>\n",
       "      <td>-0.070456</td>\n",
       "      <td>7.118010e-06</td>\n",
       "      <td>0.310073</td>\n",
       "    </tr>\n",
       "    <tr>\n",
       "      <th>27</th>\n",
       "      <td>0.120321</td>\n",
       "      <td>0.000707</td>\n",
       "      <td>0.102141</td>\n",
       "      <td>6.170227</td>\n",
       "      <td>1.683588e-05</td>\n",
       "      <td>0.002261</td>\n",
       "      <td>0.134135</td>\n",
       "      <td>-0.002265</td>\n",
       "      <td>1.567845e-07</td>\n",
       "      <td>0.002070</td>\n",
       "    </tr>\n",
       "  </tbody>\n",
       "</table>\n",
       "</div>"
      ],
      "text/plain": [
       "    TAC_Reading   mov_min   mov_avg   mov_max     speed_min  speed_avg  \\\n",
       "19     0.023972  0.000332  0.218634  5.590395  3.629446e-07   0.004933   \n",
       "24     0.160592  0.001208  0.058336  1.849770  3.335176e-07   0.003037   \n",
       "25     0.182644  0.000245  0.032033  3.424942  1.002181e-06   0.000880   \n",
       "26     0.166101  0.000100  0.109854  4.814954  3.529737e-07   0.002438   \n",
       "27     0.120321  0.000707  0.102141  6.170227  1.683588e-05   0.002261   \n",
       "\n",
       "    speed_max   acc_min       acc_avg   acc_max  \n",
       "19   0.382105 -0.112777  2.929040e-05  0.357148  \n",
       "24   0.115611 -0.019693  7.039913e-04  0.079321  \n",
       "25   0.506953 -0.230323  1.630810e-05  0.433639  \n",
       "26   0.310157 -0.070456  7.118010e-06  0.310073  \n",
       "27   0.134135 -0.002265  1.567845e-07  0.002070  "
      ]
     },
     "execution_count": 484,
     "metadata": {},
     "output_type": "execute_result"
    }
   ],
   "source": [
    "data.head()"
   ]
  },
  {
   "cell_type": "code",
   "execution_count": 485,
   "metadata": {},
   "outputs": [
    {
     "data": {
      "text/plain": [
       "224"
      ]
     },
     "execution_count": 485,
     "metadata": {},
     "output_type": "execute_result"
    }
   ],
   "source": [
    "len(data)"
   ]
  },
  {
   "cell_type": "markdown",
   "metadata": {},
   "source": [
    "## Matrice de corrélation"
   ]
  },
  {
   "cell_type": "code",
   "execution_count": 282,
   "metadata": {},
   "outputs": [
    {
     "data": {
      "text/html": [
       "<style  type=\"text/css\" >\n",
       "#T_45aef_row0_col0,#T_45aef_row1_col1,#T_45aef_row2_col2,#T_45aef_row3_col3,#T_45aef_row4_col4,#T_45aef_row5_col5,#T_45aef_row6_col6,#T_45aef_row6_col9,#T_45aef_row7_col7,#T_45aef_row8_col8,#T_45aef_row8_col9,#T_45aef_row9_col6,#T_45aef_row9_col8,#T_45aef_row9_col9{\n",
       "            background-color:  #b40426;\n",
       "            color:  #f1f1f1;\n",
       "        }#T_45aef_row0_col1{\n",
       "            background-color:  #8badfd;\n",
       "            color:  #000000;\n",
       "        }#T_45aef_row0_col2{\n",
       "            background-color:  #a6c4fe;\n",
       "            color:  #000000;\n",
       "        }#T_45aef_row0_col3{\n",
       "            background-color:  #90b2fe;\n",
       "            color:  #000000;\n",
       "        }#T_45aef_row0_col4{\n",
       "            background-color:  #93b5fe;\n",
       "            color:  #000000;\n",
       "        }#T_45aef_row0_col5,#T_45aef_row1_col5,#T_45aef_row4_col5{\n",
       "            background-color:  #d4dbe6;\n",
       "            color:  #000000;\n",
       "        }#T_45aef_row0_col6,#T_45aef_row0_col9,#T_45aef_row1_col6,#T_45aef_row1_col9,#T_45aef_row4_col6,#T_45aef_row4_col9{\n",
       "            background-color:  #d2dbe8;\n",
       "            color:  #000000;\n",
       "        }#T_45aef_row0_col7{\n",
       "            background-color:  #dddcdc;\n",
       "            color:  #000000;\n",
       "        }#T_45aef_row0_col8{\n",
       "            background-color:  #d6dce4;\n",
       "            color:  #000000;\n",
       "        }#T_45aef_row1_col0{\n",
       "            background-color:  #88abfd;\n",
       "            color:  #000000;\n",
       "        }#T_45aef_row1_col2{\n",
       "            background-color:  #a5c3fe;\n",
       "            color:  #000000;\n",
       "        }#T_45aef_row1_col3{\n",
       "            background-color:  #8db0fe;\n",
       "            color:  #000000;\n",
       "        }#T_45aef_row1_col4{\n",
       "            background-color:  #d9dce1;\n",
       "            color:  #000000;\n",
       "        }#T_45aef_row1_col7,#T_45aef_row4_col7{\n",
       "            background-color:  #dedcdb;\n",
       "            color:  #000000;\n",
       "        }#T_45aef_row1_col8,#T_45aef_row4_col8{\n",
       "            background-color:  #d5dbe5;\n",
       "            color:  #000000;\n",
       "        }#T_45aef_row2_col0{\n",
       "            background-color:  #3c4ec2;\n",
       "            color:  #f1f1f1;\n",
       "        }#T_45aef_row2_col1{\n",
       "            background-color:  #3d50c3;\n",
       "            color:  #f1f1f1;\n",
       "        }#T_45aef_row2_col3{\n",
       "            background-color:  #dc5d4a;\n",
       "            color:  #000000;\n",
       "        }#T_45aef_row2_col4,#T_45aef_row5_col0,#T_45aef_row6_col0{\n",
       "            background-color:  #3e51c5;\n",
       "            color:  #f1f1f1;\n",
       "        }#T_45aef_row2_col5{\n",
       "            background-color:  #e7745b;\n",
       "            color:  #000000;\n",
       "        }#T_45aef_row2_col6{\n",
       "            background-color:  #f18d6f;\n",
       "            color:  #000000;\n",
       "        }#T_45aef_row2_col7{\n",
       "            background-color:  #80a3fa;\n",
       "            color:  #000000;\n",
       "        }#T_45aef_row2_col8,#T_45aef_row3_col5{\n",
       "            background-color:  #f4987a;\n",
       "            color:  #000000;\n",
       "        }#T_45aef_row2_col9{\n",
       "            background-color:  #f59c7d;\n",
       "            color:  #000000;\n",
       "        }#T_45aef_row3_col0,#T_45aef_row3_col1,#T_45aef_row3_col4,#T_45aef_row5_col7,#T_45aef_row7_col2,#T_45aef_row7_col3,#T_45aef_row7_col5,#T_45aef_row7_col6,#T_45aef_row7_col8,#T_45aef_row7_col9,#T_45aef_row8_col7{\n",
       "            background-color:  #3b4cc0;\n",
       "            color:  #f1f1f1;\n",
       "        }#T_45aef_row3_col2{\n",
       "            background-color:  #d85646;\n",
       "            color:  #000000;\n",
       "        }#T_45aef_row3_col6,#T_45aef_row6_col2{\n",
       "            background-color:  #f6a283;\n",
       "            color:  #000000;\n",
       "        }#T_45aef_row3_col7{\n",
       "            background-color:  #96b7ff;\n",
       "            color:  #000000;\n",
       "        }#T_45aef_row3_col8{\n",
       "            background-color:  #f7af91;\n",
       "            color:  #000000;\n",
       "        }#T_45aef_row3_col9{\n",
       "            background-color:  #f7b093;\n",
       "            color:  #000000;\n",
       "        }#T_45aef_row4_col0{\n",
       "            background-color:  #8caffe;\n",
       "            color:  #000000;\n",
       "        }#T_45aef_row4_col1{\n",
       "            background-color:  #d8dce2;\n",
       "            color:  #000000;\n",
       "        }#T_45aef_row4_col2{\n",
       "            background-color:  #a2c1ff;\n",
       "            color:  #000000;\n",
       "        }#T_45aef_row4_col3{\n",
       "            background-color:  #89acfd;\n",
       "            color:  #000000;\n",
       "        }#T_45aef_row5_col1,#T_45aef_row6_col1,#T_45aef_row6_col7,#T_45aef_row8_col0,#T_45aef_row9_col7{\n",
       "            background-color:  #4055c8;\n",
       "            color:  #f1f1f1;\n",
       "        }#T_45aef_row5_col2{\n",
       "            background-color:  #ef886b;\n",
       "            color:  #000000;\n",
       "        }#T_45aef_row5_col3{\n",
       "            background-color:  #f7b99e;\n",
       "            color:  #000000;\n",
       "        }#T_45aef_row5_col4{\n",
       "            background-color:  #445acc;\n",
       "            color:  #f1f1f1;\n",
       "        }#T_45aef_row5_col6,#T_45aef_row6_col5{\n",
       "            background-color:  #b70d28;\n",
       "            color:  #f1f1f1;\n",
       "        }#T_45aef_row5_col8,#T_45aef_row8_col5{\n",
       "            background-color:  #b8122a;\n",
       "            color:  #f1f1f1;\n",
       "        }#T_45aef_row5_col9,#T_45aef_row9_col5{\n",
       "            background-color:  #ba162b;\n",
       "            color:  #f1f1f1;\n",
       "        }#T_45aef_row6_col3{\n",
       "            background-color:  #f5c1a9;\n",
       "            color:  #000000;\n",
       "        }#T_45aef_row6_col4{\n",
       "            background-color:  #455cce;\n",
       "            color:  #f1f1f1;\n",
       "        }#T_45aef_row6_col8,#T_45aef_row8_col6{\n",
       "            background-color:  #b50927;\n",
       "            color:  #f1f1f1;\n",
       "        }#T_45aef_row7_col0{\n",
       "            background-color:  #506bda;\n",
       "            color:  #000000;\n",
       "        }#T_45aef_row7_col1{\n",
       "            background-color:  #5673e0;\n",
       "            color:  #000000;\n",
       "        }#T_45aef_row7_col4{\n",
       "            background-color:  #5a78e4;\n",
       "            color:  #000000;\n",
       "        }#T_45aef_row8_col1,#T_45aef_row9_col1{\n",
       "            background-color:  #4257c9;\n",
       "            color:  #f1f1f1;\n",
       "        }#T_45aef_row8_col2,#T_45aef_row9_col2{\n",
       "            background-color:  #f7b396;\n",
       "            color:  #000000;\n",
       "        }#T_45aef_row8_col3{\n",
       "            background-color:  #eed0c0;\n",
       "            color:  #000000;\n",
       "        }#T_45aef_row8_col4{\n",
       "            background-color:  #485fd1;\n",
       "            color:  #f1f1f1;\n",
       "        }#T_45aef_row9_col0{\n",
       "            background-color:  #3f53c6;\n",
       "            color:  #f1f1f1;\n",
       "        }#T_45aef_row9_col3{\n",
       "            background-color:  #efcfbf;\n",
       "            color:  #000000;\n",
       "        }#T_45aef_row9_col4{\n",
       "            background-color:  #465ecf;\n",
       "            color:  #f1f1f1;\n",
       "        }</style><table id=\"T_45aef_\" ><thead>    <tr>        <th class=\"blank level0\" ></th>        <th class=\"col_heading level0 col0\" >TAC_Reading</th>        <th class=\"col_heading level0 col1\" >mov_min</th>        <th class=\"col_heading level0 col2\" >mov_avg</th>        <th class=\"col_heading level0 col3\" >mov_max</th>        <th class=\"col_heading level0 col4\" >speed_min</th>        <th class=\"col_heading level0 col5\" >speed_avg</th>        <th class=\"col_heading level0 col6\" >speed_max</th>        <th class=\"col_heading level0 col7\" >acc_min</th>        <th class=\"col_heading level0 col8\" >acc_avg</th>        <th class=\"col_heading level0 col9\" >acc_max</th>    </tr></thead><tbody>\n",
       "                <tr>\n",
       "                        <th id=\"T_45aef_level0_row0\" class=\"row_heading level0 row0\" >TAC_Reading</th>\n",
       "                        <td id=\"T_45aef_row0_col0\" class=\"data row0 col0\" >1.000000</td>\n",
       "                        <td id=\"T_45aef_row0_col1\" class=\"data row0 col1\" >0.197314</td>\n",
       "                        <td id=\"T_45aef_row0_col2\" class=\"data row0 col2\" >-0.048761</td>\n",
       "                        <td id=\"T_45aef_row0_col3\" class=\"data row0 col3\" >-0.053334</td>\n",
       "                        <td id=\"T_45aef_row0_col4\" class=\"data row0 col4\" >0.208694</td>\n",
       "                        <td id=\"T_45aef_row0_col5\" class=\"data row0 col5\" >-0.037449</td>\n",
       "                        <td id=\"T_45aef_row0_col6\" class=\"data row0 col6\" >-0.037968</td>\n",
       "                        <td id=\"T_45aef_row0_col7\" class=\"data row0 col7\" >0.023492</td>\n",
       "                        <td id=\"T_45aef_row0_col8\" class=\"data row0 col8\" >-0.029965</td>\n",
       "                        <td id=\"T_45aef_row0_col9\" class=\"data row0 col9\" >-0.033622</td>\n",
       "            </tr>\n",
       "            <tr>\n",
       "                        <th id=\"T_45aef_level0_row1\" class=\"row_heading level0 row1\" >mov_min</th>\n",
       "                        <td id=\"T_45aef_row1_col0\" class=\"data row1 col0\" >0.197314</td>\n",
       "                        <td id=\"T_45aef_row1_col1\" class=\"data row1 col1\" >1.000000</td>\n",
       "                        <td id=\"T_45aef_row1_col2\" class=\"data row1 col2\" >-0.053280</td>\n",
       "                        <td id=\"T_45aef_row1_col3\" class=\"data row1 col3\" >-0.063642</td>\n",
       "                        <td id=\"T_45aef_row1_col4\" class=\"data row1 col4\" >0.447722</td>\n",
       "                        <td id=\"T_45aef_row1_col5\" class=\"data row1 col5\" >-0.042395</td>\n",
       "                        <td id=\"T_45aef_row1_col6\" class=\"data row1 col6\" >-0.039276</td>\n",
       "                        <td id=\"T_45aef_row1_col7\" class=\"data row1 col7\" >0.035073</td>\n",
       "                        <td id=\"T_45aef_row1_col8\" class=\"data row1 col8\" >-0.034941</td>\n",
       "                        <td id=\"T_45aef_row1_col9\" class=\"data row1 col9\" >-0.035401</td>\n",
       "            </tr>\n",
       "            <tr>\n",
       "                        <th id=\"T_45aef_level0_row2\" class=\"row_heading level0 row2\" >mov_avg</th>\n",
       "                        <td id=\"T_45aef_row2_col0\" class=\"data row2 col0\" >-0.048761</td>\n",
       "                        <td id=\"T_45aef_row2_col1\" class=\"data row2 col1\" >-0.053280</td>\n",
       "                        <td id=\"T_45aef_row2_col2\" class=\"data row2 col2\" >1.000000</td>\n",
       "                        <td id=\"T_45aef_row2_col3\" class=\"data row2 col3\" >0.831511</td>\n",
       "                        <td id=\"T_45aef_row2_col4\" class=\"data row2 col4\" >-0.065899</td>\n",
       "                        <td id=\"T_45aef_row2_col5\" class=\"data row2 col5\" >0.675660</td>\n",
       "                        <td id=\"T_45aef_row2_col6\" class=\"data row2 col6\" >0.578029</td>\n",
       "                        <td id=\"T_45aef_row2_col7\" class=\"data row2 col7\" >-0.543427</td>\n",
       "                        <td id=\"T_45aef_row2_col8\" class=\"data row2 col8\" >0.511493</td>\n",
       "                        <td id=\"T_45aef_row2_col9\" class=\"data row2 col9\" >0.509380</td>\n",
       "            </tr>\n",
       "            <tr>\n",
       "                        <th id=\"T_45aef_level0_row3\" class=\"row_heading level0 row3\" >mov_max</th>\n",
       "                        <td id=\"T_45aef_row3_col0\" class=\"data row3 col0\" >-0.053334</td>\n",
       "                        <td id=\"T_45aef_row3_col1\" class=\"data row3 col1\" >-0.063642</td>\n",
       "                        <td id=\"T_45aef_row3_col2\" class=\"data row3 col2\" >0.831511</td>\n",
       "                        <td id=\"T_45aef_row3_col3\" class=\"data row3 col3\" >1.000000</td>\n",
       "                        <td id=\"T_45aef_row3_col4\" class=\"data row3 col4\" >-0.079190</td>\n",
       "                        <td id=\"T_45aef_row3_col5\" class=\"data row3 col5\" >0.517939</td>\n",
       "                        <td id=\"T_45aef_row3_col6\" class=\"data row3 col6\" >0.480832</td>\n",
       "                        <td id=\"T_45aef_row3_col7\" class=\"data row3 col7\" >-0.421195</td>\n",
       "                        <td id=\"T_45aef_row3_col8\" class=\"data row3 col8\" >0.396668</td>\n",
       "                        <td id=\"T_45aef_row3_col9\" class=\"data row3 col9\" >0.403870</td>\n",
       "            </tr>\n",
       "            <tr>\n",
       "                        <th id=\"T_45aef_level0_row4\" class=\"row_heading level0 row4\" >speed_min</th>\n",
       "                        <td id=\"T_45aef_row4_col0\" class=\"data row4 col0\" >0.208694</td>\n",
       "                        <td id=\"T_45aef_row4_col1\" class=\"data row4 col1\" >0.447722</td>\n",
       "                        <td id=\"T_45aef_row4_col2\" class=\"data row4 col2\" >-0.065899</td>\n",
       "                        <td id=\"T_45aef_row4_col3\" class=\"data row4 col3\" >-0.079190</td>\n",
       "                        <td id=\"T_45aef_row4_col4\" class=\"data row4 col4\" >1.000000</td>\n",
       "                        <td id=\"T_45aef_row4_col5\" class=\"data row4 col5\" >-0.042106</td>\n",
       "                        <td id=\"T_45aef_row4_col6\" class=\"data row4 col6\" >-0.039076</td>\n",
       "                        <td id=\"T_45aef_row4_col7\" class=\"data row4 col7\" >0.034307</td>\n",
       "                        <td id=\"T_45aef_row4_col8\" class=\"data row4 col8\" >-0.032530</td>\n",
       "                        <td id=\"T_45aef_row4_col9\" class=\"data row4 col9\" >-0.033100</td>\n",
       "            </tr>\n",
       "            <tr>\n",
       "                        <th id=\"T_45aef_level0_row5\" class=\"row_heading level0 row5\" >speed_avg</th>\n",
       "                        <td id=\"T_45aef_row5_col0\" class=\"data row5 col0\" >-0.037449</td>\n",
       "                        <td id=\"T_45aef_row5_col1\" class=\"data row5 col1\" >-0.042395</td>\n",
       "                        <td id=\"T_45aef_row5_col2\" class=\"data row5 col2\" >0.675660</td>\n",
       "                        <td id=\"T_45aef_row5_col3\" class=\"data row5 col3\" >0.517939</td>\n",
       "                        <td id=\"T_45aef_row5_col4\" class=\"data row5 col4\" >-0.042106</td>\n",
       "                        <td id=\"T_45aef_row5_col5\" class=\"data row5 col5\" >1.000000</td>\n",
       "                        <td id=\"T_45aef_row5_col6\" class=\"data row5 col6\" >0.980271</td>\n",
       "                        <td id=\"T_45aef_row5_col7\" class=\"data row5 col7\" >-0.950680</td>\n",
       "                        <td id=\"T_45aef_row5_col8\" class=\"data row5 col8\" >0.976986</td>\n",
       "                        <td id=\"T_45aef_row5_col9\" class=\"data row5 col9\" >0.968868</td>\n",
       "            </tr>\n",
       "            <tr>\n",
       "                        <th id=\"T_45aef_level0_row6\" class=\"row_heading level0 row6\" >speed_max</th>\n",
       "                        <td id=\"T_45aef_row6_col0\" class=\"data row6 col0\" >-0.037968</td>\n",
       "                        <td id=\"T_45aef_row6_col1\" class=\"data row6 col1\" >-0.039276</td>\n",
       "                        <td id=\"T_45aef_row6_col2\" class=\"data row6 col2\" >0.578029</td>\n",
       "                        <td id=\"T_45aef_row6_col3\" class=\"data row6 col3\" >0.480832</td>\n",
       "                        <td id=\"T_45aef_row6_col4\" class=\"data row6 col4\" >-0.039076</td>\n",
       "                        <td id=\"T_45aef_row6_col5\" class=\"data row6 col5\" >0.980271</td>\n",
       "                        <td id=\"T_45aef_row6_col6\" class=\"data row6 col6\" >1.000000</td>\n",
       "                        <td id=\"T_45aef_row6_col7\" class=\"data row6 col7\" >-0.918072</td>\n",
       "                        <td id=\"T_45aef_row6_col8\" class=\"data row6 col8\" >0.986794</td>\n",
       "                        <td id=\"T_45aef_row6_col9\" class=\"data row6 col9\" >0.994771</td>\n",
       "            </tr>\n",
       "            <tr>\n",
       "                        <th id=\"T_45aef_level0_row7\" class=\"row_heading level0 row7\" >acc_min</th>\n",
       "                        <td id=\"T_45aef_row7_col0\" class=\"data row7 col0\" >0.023492</td>\n",
       "                        <td id=\"T_45aef_row7_col1\" class=\"data row7 col1\" >0.035073</td>\n",
       "                        <td id=\"T_45aef_row7_col2\" class=\"data row7 col2\" >-0.543427</td>\n",
       "                        <td id=\"T_45aef_row7_col3\" class=\"data row7 col3\" >-0.421195</td>\n",
       "                        <td id=\"T_45aef_row7_col4\" class=\"data row7 col4\" >0.034307</td>\n",
       "                        <td id=\"T_45aef_row7_col5\" class=\"data row7 col5\" >-0.950680</td>\n",
       "                        <td id=\"T_45aef_row7_col6\" class=\"data row7 col6\" >-0.918072</td>\n",
       "                        <td id=\"T_45aef_row7_col7\" class=\"data row7 col7\" >1.000000</td>\n",
       "                        <td id=\"T_45aef_row7_col8\" class=\"data row7 col8\" >-0.957175</td>\n",
       "                        <td id=\"T_45aef_row7_col9\" class=\"data row7 col9\" >-0.916170</td>\n",
       "            </tr>\n",
       "            <tr>\n",
       "                        <th id=\"T_45aef_level0_row8\" class=\"row_heading level0 row8\" >acc_avg</th>\n",
       "                        <td id=\"T_45aef_row8_col0\" class=\"data row8 col0\" >-0.029965</td>\n",
       "                        <td id=\"T_45aef_row8_col1\" class=\"data row8 col1\" >-0.034941</td>\n",
       "                        <td id=\"T_45aef_row8_col2\" class=\"data row8 col2\" >0.511493</td>\n",
       "                        <td id=\"T_45aef_row8_col3\" class=\"data row8 col3\" >0.396668</td>\n",
       "                        <td id=\"T_45aef_row8_col4\" class=\"data row8 col4\" >-0.032530</td>\n",
       "                        <td id=\"T_45aef_row8_col5\" class=\"data row8 col5\" >0.976986</td>\n",
       "                        <td id=\"T_45aef_row8_col6\" class=\"data row8 col6\" >0.986794</td>\n",
       "                        <td id=\"T_45aef_row8_col7\" class=\"data row8 col7\" >-0.957175</td>\n",
       "                        <td id=\"T_45aef_row8_col8\" class=\"data row8 col8\" >1.000000</td>\n",
       "                        <td id=\"T_45aef_row8_col9\" class=\"data row8 col9\" >0.992527</td>\n",
       "            </tr>\n",
       "            <tr>\n",
       "                        <th id=\"T_45aef_level0_row9\" class=\"row_heading level0 row9\" >acc_max</th>\n",
       "                        <td id=\"T_45aef_row9_col0\" class=\"data row9 col0\" >-0.033622</td>\n",
       "                        <td id=\"T_45aef_row9_col1\" class=\"data row9 col1\" >-0.035401</td>\n",
       "                        <td id=\"T_45aef_row9_col2\" class=\"data row9 col2\" >0.509380</td>\n",
       "                        <td id=\"T_45aef_row9_col3\" class=\"data row9 col3\" >0.403870</td>\n",
       "                        <td id=\"T_45aef_row9_col4\" class=\"data row9 col4\" >-0.033100</td>\n",
       "                        <td id=\"T_45aef_row9_col5\" class=\"data row9 col5\" >0.968868</td>\n",
       "                        <td id=\"T_45aef_row9_col6\" class=\"data row9 col6\" >0.994771</td>\n",
       "                        <td id=\"T_45aef_row9_col7\" class=\"data row9 col7\" >-0.916170</td>\n",
       "                        <td id=\"T_45aef_row9_col8\" class=\"data row9 col8\" >0.992527</td>\n",
       "                        <td id=\"T_45aef_row9_col9\" class=\"data row9 col9\" >1.000000</td>\n",
       "            </tr>\n",
       "    </tbody></table>"
      ],
      "text/plain": [
       "<pandas.io.formats.style.Styler at 0x27a9140a1c0>"
      ]
     },
     "execution_count": 282,
     "metadata": {},
     "output_type": "execute_result"
    }
   ],
   "source": [
    "corr = data.corr()\n",
    "corr.style.background_gradient(cmap='coolwarm')"
   ]
  },
  {
   "cell_type": "markdown",
   "metadata": {},
   "source": [
    "### Nous observons pas une énorme corrélation entre le TAC reading et les autres valeurs mais malgré cela, la lenteur et ne pas beaucoup bouger (rester calme) pourrait être faire le lien"
   ]
  },
  {
   "cell_type": "code",
   "execution_count": 478,
   "metadata": {},
   "outputs": [
    {
     "data": {
      "text/plain": [
       "<matplotlib.collections.PathCollection at 0x27a857661f0>"
      ]
     },
     "execution_count": 478,
     "metadata": {},
     "output_type": "execute_result"
    },
    {
     "data": {
      "image/png": "[encoded data removed]",
      "text/plain": [
       "<Figure size 432x288 with 1 Axes>"
      ]
     },
     "metadata": {
      "needs_background": "light"
     },
     "output_type": "display_data"
    }
   ],
   "source": [
    "plt.scatter(data[\"mov_min\"], data[\"TAC_Reading\"])"
   ]
  },
  {
   "cell_type": "markdown",
   "metadata": {},
   "source": [
    "#### Les données semble s'éparpiller un peu plus avec un plus grand degré d'alcolémie"
   ]
  },
  {
   "cell_type": "code",
   "execution_count": 475,
   "metadata": {},
   "outputs": [
    {
     "data": {
      "text/plain": [
       "<matplotlib.collections.PathCollection at 0x27a856605e0>"
      ]
     },
     "execution_count": 475,
     "metadata": {},
     "output_type": "execute_result"
    },
    {
     "data": {
      "image/png": "[encoded data removed]",
      "text/plain": [
       "<Figure size 432x288 with 1 Axes>"
      ]
     },
     "metadata": {
      "needs_background": "light"
     },
     "output_type": "display_data"
    }
   ],
   "source": [
    "plt.scatter(data[\"speed_min\"], data[\"TAC_Reading\"])"
   ]
  },
  {
   "cell_type": "markdown",
   "metadata": {},
   "source": [
    "#### Aucune conclusion ne peut être tiré à vue d'oeil sur ce graphique"
   ]
  },
  {
   "cell_type": "markdown",
   "metadata": {},
   "source": [
    "## Séparation de la Base de données en test et train"
   ]
  },
  {
   "cell_type": "code",
   "execution_count": 472,
   "metadata": {},
   "outputs": [],
   "source": [
    "X = data.iloc[:, 1:]\n",
    "y = data.iloc[:, 0]\n",
    "\n",
    "X_train,X_test,y_train,y_test = train_test_split(X,y,test_size=0.2) #Séparation 80% train, 20% test"
   ]
  },
  {
   "cell_type": "code",
   "execution_count": 333,
   "metadata": {},
   "outputs": [
    {
     "data": {
      "text/plain": [
       "49    0.011030\n",
       "36    0.096431\n",
       "23    0.169698\n",
       "53    0.009171\n",
       "43    0.003258\n",
       "Name: TAC_Reading, dtype: float64"
      ]
     },
     "execution_count": 333,
     "metadata": {},
     "output_type": "execute_result"
    }
   ],
   "source": [
    "y_test.head()"
   ]
  },
  {
   "cell_type": "markdown",
   "metadata": {},
   "source": [
    "#### Nous avons garder les résultats pour un modèle de régréssion (y_train et y_test) car ce sont des valeurs continues, en effet l'état débriété est fixé arbitrairement au seuil 0.08. Nous avons tout de même aussi utiliser une classification avec l'état d'ébriété comme l'ont fait les chercheurs afin de tester 2 modèles"
   ]
  },
  {
   "cell_type": "code",
   "execution_count": 342,
   "metadata": {},
   "outputs": [],
   "source": [
    "y_train2 = y_train.copy()\n",
    "y_train2 = y_train2 > 0.08\n",
    "\n",
    "y_test2 = y_test.copy()\n",
    "y_test2 = y_test2 > 0.08"
   ]
  },
  {
   "cell_type": "markdown",
   "metadata": {},
   "source": [
    "## Modèle 1 :  Régression linéaire simple"
   ]
  },
  {
   "cell_type": "code",
   "execution_count": 287,
   "metadata": {},
   "outputs": [],
   "source": [
    "from sklearn.linear_model import LinearRegression"
   ]
  },
  {
   "cell_type": "code",
   "execution_count": 468,
   "metadata": {},
   "outputs": [
    {
     "data": {
      "text/plain": [
       "LinearRegression(normalize=True)"
      ]
     },
     "execution_count": 468,
     "metadata": {},
     "output_type": "execute_result"
    }
   ],
   "source": [
    "regressor = LinearRegression(normalize = True, fit_intercept = True)\n",
    "regressor.fit(X_train, y_train)"
   ]
  },
  {
   "cell_type": "markdown",
   "metadata": {},
   "source": [
    "#### L'ordonnée à l'origine est calculée, ce n'est pas un modèle linéaire, lorsqu'on est entièrement sobre, on bouge tout de même\n",
    "#### Les données sont normalisées"
   ]
  },
  {
   "cell_type": "code",
   "execution_count": 469,
   "metadata": {},
   "outputs": [],
   "source": [
    "y_pred = regressor.predict(X_test)"
   ]
  },
  {
   "cell_type": "code",
   "execution_count": 470,
   "metadata": {},
   "outputs": [
    {
     "name": "stdout",
     "output_type": "stream",
     "text": [
      "Mean Absolute Error: 0.05088195792450543\n",
      "Mean Squared Error: 0.003202462575348558\n",
      "Root Mean Squared Error: 0.05659030460554668\n"
     ]
    }
   ],
   "source": [
    "print('Mean Absolute Error:', metrics.mean_absolute_error(y_test, y_pred))\n",
    "print('Mean Squared Error:', metrics.mean_squared_error(y_test, y_pred))\n",
    "print('Root Mean Squared Error:', np.sqrt(metrics.mean_squared_error(y_test, y_pred)))"
   ]
  },
  {
   "cell_type": "markdown",
   "metadata": {},
   "source": [
    "#### Les résultats ne sont pas très prometteurs. Même si les résultats sont moyens, nous n'avons pas assez de valeurs pour obtenir une conclusion si oui ou non cela pourrait servir"
   ]
  },
  {
   "cell_type": "code",
   "execution_count": 471,
   "metadata": {},
   "outputs": [
    {
     "data": {
      "text/plain": [
       "{'whiskers': [<matplotlib.lines.Line2D at 0x27a85567d00>,\n",
       "  <matplotlib.lines.Line2D at 0x27a855730a0>],\n",
       " 'caps': [<matplotlib.lines.Line2D at 0x27a85573400>,\n",
       "  <matplotlib.lines.Line2D at 0x27a85573760>],\n",
       " 'boxes': [<matplotlib.lines.Line2D at 0x27a855679a0>],\n",
       " 'medians': [<matplotlib.lines.Line2D at 0x27a85573a60>],\n",
       " 'fliers': [<matplotlib.lines.Line2D at 0x27a85573dc0>],\n",
       " 'means': []}"
      ]
     },
     "execution_count": 471,
     "metadata": {},
     "output_type": "execute_result"
    },
    {
     "data": {
      "image/png": "[encoded data removed]",
      "text/plain": [
       "<Figure size 432x288 with 1 Axes>"
      ]
     },
     "metadata": {
      "needs_background": "light"
     },
     "output_type": "display_data"
    }
   ],
   "source": [
    "plt.boxplot(y_pred)"
   ]
  },
  {
   "cell_type": "markdown",
   "metadata": {},
   "source": [
    "#### En plongeant plus dans les détails, nous observons un boxplot centré autour de même valeurs et de très prêt, le modèle est donc complètement mauvais car celui-ci ne peut pas faire une prédiction de quelqu'un de complètement sobre ou très saoul. Après, la base de données montre elle aussi pas une aussi grosse variété dans les résultats mais elle reste tout de même plus variée que le modèle"
   ]
  },
  {
   "cell_type": "markdown",
   "metadata": {},
   "source": [
    "## Modèle 2 : Gradient Boosting Classifier"
   ]
  },
  {
   "cell_type": "code",
   "execution_count": 320,
   "metadata": {},
   "outputs": [],
   "source": [
    "from sklearn.ensemble import GradientBoostingClassifier"
   ]
  },
  {
   "cell_type": "code",
   "execution_count": 465,
   "metadata": {},
   "outputs": [
    {
     "data": {
      "text/plain": [
       "0.8"
      ]
     },
     "execution_count": 465,
     "metadata": {},
     "output_type": "execute_result"
    }
   ],
   "source": [
    "clf_gbc = GradientBoostingClassifier(n_estimators=100, learning_rate=1, max_depth=1).fit(X_train, y_train2)\n",
    "clf_gbc.score(X_test, y_test2)"
   ]
  },
  {
   "cell_type": "markdown",
   "metadata": {},
   "source": [
    "#### Les hyperparamètres semblent être dans un bon état. \n",
    "#### Pour la profondeur, on ne peut pas s'aventurer loin car vu la faiblesse de la base de données en terme de nombre mais aussi en terme de différentes valeurs, on ne peut obtenir une meilleure conculsion. \n",
    "#### Pour ce qui est du learning rate, le faire plus baisser, nous obtenons pas une convergence assez rapide et une convergence trop rapide ne peut se faire corriger sur une petite base de données."
   ]
  },
  {
   "cell_type": "code",
   "execution_count": 356,
   "metadata": {},
   "outputs": [],
   "source": [
    "y_pred = clf_gbc.predict(X_test)"
   ]
  },
  {
   "cell_type": "code",
   "execution_count": 357,
   "metadata": {},
   "outputs": [
    {
     "data": {
      "text/plain": [
       "array([[28,  5],\n",
       "       [ 4,  8]], dtype=int64)"
      ]
     },
     "execution_count": 357,
     "metadata": {},
     "output_type": "execute_result"
    }
   ],
   "source": [
    "confusion_matrix(y_test2, y_pred)"
   ]
  },
  {
   "cell_type": "markdown",
   "metadata": {},
   "source": [
    "#### La matrice de confusion semble être assez bien (pour le nombre de valeurs) mais elle montre bien qu'il n'y a pas assez de valeurs négatives."
   ]
  },
  {
   "cell_type": "markdown",
   "metadata": {},
   "source": [
    "## Modèle 3 : Decision Tree Classifier"
   ]
  },
  {
   "cell_type": "code",
   "execution_count": null,
   "metadata": {},
   "outputs": [],
   "source": [
    "from sklearn import tree"
   ]
  },
  {
   "cell_type": "code",
   "execution_count": 390,
   "metadata": {},
   "outputs": [],
   "source": [
    "clf_tree = tree.DecisionTreeClassifier(max_depth = 3)\n",
    "clf_tree = clf_tree.fit(X_train, y_train2)"
   ]
  },
  {
   "cell_type": "markdown",
   "metadata": {},
   "source": [
    "#### La profondeur semble être dans un bon état, une profondeur plus faible ne laisserai pas assez de critères pour décider le retour/résultat, une profondeur plus forte demanderai d'aller dans trop de critères et sachant que ceux-ci sont assez corrélés, cela donne un résultat trop biaisé et donc de l'overfitting"
   ]
  },
  {
   "cell_type": "code",
   "execution_count": 351,
   "metadata": {},
   "outputs": [
    {
     "data": {
      "text/plain": [
       "[Text(141.64615384615385, 190.26, 'X[1] <= 0.023\\ngini = 0.483\\nsamples = 179\\nvalue = [106, 73]'),\n",
       " Text(51.50769230769231, 135.9, 'X[6] <= -0.016\\ngini = 0.19\\nsamples = 47\\nvalue = [42, 5]'),\n",
       " Text(25.753846153846155, 81.53999999999999, 'gini = 0.0\\nsamples = 2\\nvalue = [0, 2]'),\n",
       " Text(77.26153846153846, 81.53999999999999, 'X[5] <= 0.13\\ngini = 0.124\\nsamples = 45\\nvalue = [42, 3]'),\n",
       " Text(51.50769230769231, 27.180000000000007, 'gini = 0.0\\nsamples = 35\\nvalue = [35, 0]'),\n",
       " Text(103.01538461538462, 27.180000000000007, 'gini = 0.42\\nsamples = 10\\nvalue = [7, 3]'),\n",
       " Text(231.7846153846154, 135.9, 'X[1] <= 0.889\\ngini = 0.5\\nsamples = 132\\nvalue = [64, 68]'),\n",
       " Text(180.27692307692308, 81.53999999999999, 'X[7] <= 0.0\\ngini = 0.489\\nsamples = 113\\nvalue = [48, 65]'),\n",
       " Text(154.52307692307693, 27.180000000000007, 'gini = 0.497\\nsamples = 74\\nvalue = [40, 34]'),\n",
       " Text(206.03076923076924, 27.180000000000007, 'gini = 0.326\\nsamples = 39\\nvalue = [8, 31]'),\n",
       " Text(283.2923076923077, 81.53999999999999, 'X[7] <= 0.002\\ngini = 0.266\\nsamples = 19\\nvalue = [16, 3]'),\n",
       " Text(257.53846153846155, 27.180000000000007, 'gini = 0.5\\nsamples = 6\\nvalue = [3, 3]'),\n",
       " Text(309.04615384615386, 27.180000000000007, 'gini = 0.0\\nsamples = 13\\nvalue = [13, 0]')]"
      ]
     },
     "execution_count": 351,
     "metadata": {},
     "output_type": "execute_result"
    },
    {
     "data": {
      "image/png": "[encoded data removed]",
      "text/plain": [
       "<Figure size 432x288 with 1 Axes>"
      ]
     },
     "metadata": {
      "needs_background": "light"
     },
     "output_type": "display_data"
    }
   ],
   "source": [
    "tree.plot_tree(clf_tree)"
   ]
  },
  {
   "cell_type": "markdown",
   "metadata": {},
   "source": [
    "#### Si je devais faire une conclusion, c'est que le modèle regarde en premier si la personne a fait beaucoup de mouvement (est-ce qu'elle a pu rester calme ou non), si c'est le cas, on va vérifier si les mouvements sont brusques (accélération). Autrement, s'il n'y a pas beaucoup de mouvements, on observe si ceux-ci sont rapides ou non. \n",
    "#### Malheureusement, cette conclusion ne peut être forcément bonne au vu du faible nombres d'informations dans la base de données"
   ]
  },
  {
   "cell_type": "code",
   "execution_count": 391,
   "metadata": {},
   "outputs": [
    {
     "data": {
      "text/plain": [
       "array([[29,  4],\n",
       "       [ 9,  3]], dtype=int64)"
      ]
     },
     "execution_count": 391,
     "metadata": {},
     "output_type": "execute_result"
    }
   ],
   "source": [
    "y_pred = clf_tree.predict(X_test)\n",
    "confusion_matrix(y_test2, y_pred)"
   ]
  },
  {
   "cell_type": "markdown",
   "metadata": {},
   "source": [
    "#### On observe un moins bon résultat que le précédent. La répartition entre prédiction \"saoul\" et \"sobre\" semble être respectée"
   ]
  },
  {
   "cell_type": "markdown",
   "metadata": {},
   "source": [
    "## Exportation du modèle en pickle de Gradient Boosting Classifier"
   ]
  },
  {
   "cell_type": "code",
   "execution_count": 364,
   "metadata": {},
   "outputs": [],
   "source": [
    "import pickle"
   ]
  },
  {
   "cell_type": "code",
   "execution_count": 360,
   "metadata": {},
   "outputs": [],
   "source": [
    "pickle.dump(clf_gbc, open('model.pickle', 'wb'))"
   ]
  }
 ],
 "metadata": {
  "kernelspec": {
   "display_name": "Python 3",
   "language": "python",
   "name": "python3"
  },
  "language_info": {
   "codemirror_mode": {
    "name": "ipython",
    "version": 3
   },
   "file_extension": ".py",
   "mimetype": "text/x-python",
   "name": "python",
   "nbconvert_exporter": "python",
   "pygments_lexer": "ipython3",
   "version": "3.9.1"
  }
 },
 "nbformat": 4,
 "nbformat_minor": 4
}
